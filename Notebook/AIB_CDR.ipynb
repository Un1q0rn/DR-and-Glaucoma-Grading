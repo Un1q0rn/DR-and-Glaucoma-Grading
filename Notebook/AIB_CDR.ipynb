{
  "nbformat": 4,
  "nbformat_minor": 0,
  "metadata": {
    "colab": {
      "provenance": [],
      "machine_shape": "hm",
      "gpuType": "T4"
    },
    "kernelspec": {
      "name": "python3",
      "display_name": "Python 3"
    },
    "language_info": {
      "name": "python"
    },
    "accelerator": "GPU"
  },
  "cells": [
    {
      "cell_type": "code",
      "execution_count": null,
      "metadata": {
        "id": "kJJepIVljkpO"
      },
      "outputs": [],
      "source": [
        "!pip install segmentation-models-pytorch\n"
      ]
    },
    {
      "cell_type": "code",
      "source": [
        "!unzip /content/drive/MyDrive/siriraj-eye-dataset/Image/all_images-001.zip"
      ],
      "metadata": {
        "id": "nudfPgE69cJC"
      },
      "execution_count": null,
      "outputs": []
    },
    {
      "cell_type": "code",
      "source": [
        "!unzip /content/drive/MyDrive/Glaucoma_various/Glaucoma_Various.zip"
      ],
      "metadata": {
        "id": "cBlw-q9CFp_B"
      },
      "execution_count": null,
      "outputs": []
    },
    {
      "cell_type": "code",
      "source": [
        "import os\n",
        "import pandas as pd\n",
        "import numpy as np\n",
        "import matplotlib.pyplot as plt\n",
        "from sklearn.model_selection import train_test_split\n",
        "from sklearn.metrics import classification_report, confusion_matrix\n",
        "from sklearn.preprocessing import LabelEncoder\n",
        "import torch\n",
        "import torch.nn as nn\n",
        "import torch.optim as optim\n",
        "from torch.utils.data import Dataset, DataLoader\n",
        "from torchvision import models, transforms\n",
        "from PIL import Image\n",
        "from PIL import UnidentifiedImageError\n",
        "import cv2\n",
        "import segmentation_models_pytorch as sm\n",
        "from torchvision import transforms\n",
        "\n"
      ],
      "metadata": {
        "id": "cVBNoT2-F51M"
      },
      "execution_count": null,
      "outputs": []
    },
    {
      "cell_type": "code",
      "source": [
        "disc_model_path = '/content/drive/MyDrive/siriraj-eye-dataset/disc_model.pth'\n",
        "cup_model_path = '/content/drive/MyDrive/siriraj-eye-dataset/cup_model.pth'"
      ],
      "metadata": {
        "id": "CzoL6ASZ9IAn"
      },
      "execution_count": null,
      "outputs": []
    },
    {
      "cell_type": "code",
      "source": [
        "device = torch.device('cuda' if torch.cuda.is_available() else 'cpu')\n",
        "\n",
        "disc_model = sm.Unet('resnet34', classes=2, activation=None)\n",
        "disc_model.load_state_dict(torch.load(disc_model_path, map_location=device))\n",
        "disc_model.to(device)\n",
        "disc_model.eval()\n",
        "\n",
        "cup_model = sm.Unet('resnet34', classes=2, activation=None)\n",
        "cup_model.load_state_dict(torch.load(cup_model_path, map_location=device))\n",
        "cup_model.to(device)\n",
        "cup_model.eval()\n"
      ],
      "metadata": {
        "id": "V1wjuX3ZF7Z2"
      },
      "execution_count": null,
      "outputs": []
    },
    {
      "cell_type": "code",
      "source": [
        "EPS = 1e-7\n",
        "\n",
        "transform = transforms.Compose([\n",
        "    transforms.Resize((512, 512)),\n",
        "    transforms.ToTensor(),\n",
        "])\n",
        "\n",
        "\n",
        "def vertical_diameter(binary_segmentation):\n",
        "    '''\n",
        "    Get the vertical diameter from a binary segmentation.\n",
        "    The vertical diameter is defined as the \"fattest\" area of the binary_segmentation parameter.\n",
        "    '''\n",
        "\n",
        "    if binary_segmentation.ndim == 1:\n",
        "        binary_segmentation = binary_segmentation[None, :]\n",
        "\n",
        "    vertical_axis_diameter = np.sum(binary_segmentation, axis=1)\n",
        "\n",
        "    if vertical_axis_diameter.ndim > 1:\n",
        "        diameter = np.max(vertical_axis_diameter, axis=1)\n",
        "    else:\n",
        "        diameter = np.max(vertical_axis_diameter)\n",
        "\n",
        "    return diameter\n",
        "\n",
        "\n",
        "def vertical_cup_to_disc_ratio(od, oc):\n",
        "    '''\n",
        "    Compute the vertical cup-to-disc ratio from a given labelling map.\n",
        "    '''\n",
        "    cup_diameter = vertical_diameter(oc)\n",
        "    disc_diameter = vertical_diameter(od)\n",
        "\n",
        "    return cup_diameter / (disc_diameter + EPS)\n"
      ],
      "metadata": {
        "id": "EDFBeLiKXzIx"
      },
      "execution_count": null,
      "outputs": []
    },
    {
      "cell_type": "code",
      "source": [
        "def calculate_cdr(image_path, disc_model, cup_model, device):\n",
        "    image = Image.open(image_path).convert('RGB')\n",
        "    image = transform(image).unsqueeze(0).to(device)\n",
        "\n",
        "    disc_pred = disc_model(image)\n",
        "    cup_pred = cup_model(image)\n",
        "\n",
        "    disc_mask = (disc_pred.argmax(dim=1) > 0.5).squeeze().cpu().numpy()\n",
        "    cup_mask = (cup_pred.argmax(dim=1) > 0.5).squeeze().cpu().numpy()\n",
        "\n",
        "    cdr = vertical_cup_to_disc_ratio(disc_mask, cup_mask)\n",
        "\n",
        "    return cdr\n"
      ],
      "metadata": {
        "id": "RDfZJoe-83u_"
      },
      "execution_count": null,
      "outputs": []
    },
    {
      "cell_type": "code",
      "source": [
        "image_path = '/content/ORIGA/Images/016.jpg'\n",
        "cdr = calculate_cdr(image_path, disc_model, cup_model, device)\n",
        "print(f'Cup-to-disc ratio: {cdr}')\n"
      ],
      "metadata": {
        "colab": {
          "base_uri": "https://localhost:8080/"
        },
        "id": "175Rjihr-fQR",
        "outputId": "4a9f1fa3-263b-4631-fb83-28f8fd7ee862"
      },
      "execution_count": null,
      "outputs": [
        {
          "output_type": "stream",
          "name": "stdout",
          "text": [
            "Cup-to-disc ratio: 0.46478873173973423\n"
          ]
        }
      ]
    },
    {
      "cell_type": "code",
      "source": [],
      "metadata": {
        "id": "1J-s9gAp-vap"
      },
      "execution_count": null,
      "outputs": []
    }
  ]
}