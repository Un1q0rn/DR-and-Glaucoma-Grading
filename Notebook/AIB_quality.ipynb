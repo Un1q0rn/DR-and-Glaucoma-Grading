{
  "cells": [
    {
      "cell_type": "code",
      "execution_count": null,
      "metadata": {
        "id": "G9QWHx2X2O7B"
      },
      "outputs": [],
      "source": [
        "import os\n",
        "import pandas as pd\n",
        "import numpy as np\n",
        "import matplotlib.pyplot as plt\n",
        "from sklearn.model_selection import train_test_split\n",
        "from sklearn.metrics import classification_report, confusion_matrix\n",
        "from sklearn.preprocessing import LabelEncoder\n",
        "import torch\n",
        "import torch.nn as nn\n",
        "import torch.optim as optim\n",
        "from torch.utils.data import Dataset, DataLoader\n",
        "from torchvision import models, transforms\n",
        "from PIL import Image\n",
        "from PIL import UnidentifiedImageError"
      ]
    },
    {
      "cell_type": "code",
      "execution_count": null,
      "metadata": {
        "id": "tnh1Bk1y3ugu"
      },
      "outputs": [],
      "source": [
        "!unzip /content/drive/MyDrive/siriraj-eye-dataset/Image/all_images-001.zip"
      ]
    },
    {
      "cell_type": "code",
      "execution_count": null,
      "metadata": {
        "colab": {
          "base_uri": "https://localhost:8080/"
        },
        "id": "hoczJp8R3vrL",
        "outputId": "489f4883-f6ea-40ce-b51f-fcb396646cb5"
      },
      "outputs": [
        {
          "output_type": "stream",
          "name": "stdout",
          "text": [
            "There are 6168 files in the folder.\n"
          ]
        }
      ],
      "source": [
        "import os\n",
        "\n",
        "folder_path = '/content/all_images'\n",
        "num_files = len([f for f in os.listdir(folder_path) if os.path.isfile(os.path.join(folder_path, f))])\n",
        "\n",
        "print(f'There are {num_files} files in the folder.')\n"
      ]
    },
    {
      "cell_type": "code",
      "execution_count": null,
      "metadata": {
        "id": "z1kTt6ED6A7j"
      },
      "outputs": [],
      "source": [
        "csv_file_path = '/content/drive/MyDrive/siriraj-eye-dataset/all_labels_processed.csv'\n",
        "df = pd.read_csv(csv_file_path)\n",
        "\n",
        "df = df.drop(columns=['dr_label','camera','glaucoma_suspect', 'has_cup', 'has_disc', 'filename', 'dr_label_split', 'has_cup_split', 'has_disc_split'])\n",
        "\n",
        "old_base_path = '../dataset/siriraj-eye-dataset-2023-jan/all_images'\n",
        "new_base_path = '/content/all_images'\n",
        "#df['path'] = df['path'].apply(lambda x: x.replace(old_base_path, new_base_path))\n",
        "df['path'] = df['path'].apply(lambda x: x.replace(old_base_path, new_base_path).replace('\\\\', '/'))\n",
        "\n",
        "#df.to_csv(/content/drive/MyDrive/siriraj-eye-dataset/dr_labels.csv, index=False)"
      ]
    },
    {
      "cell_type": "code",
      "execution_count": null,
      "metadata": {
        "colab": {
          "base_uri": "https://localhost:8080/",
          "height": 455
        },
        "id": "uKEt-GEZ7ugZ",
        "outputId": "6804ee3c-0828-4fe0-9331-eee6ecd4bfb3"
      },
      "outputs": [
        {
          "output_type": "execute_result",
          "data": {
            "text/plain": [
              "                                 image_quality image_quality_split\n",
              "path                                                              \n",
              "/content/all_images/0.jpg                  NaN                 NaN\n",
              "/content/all_images/1.jpg                 GOOD               train\n",
              "/content/all_images/2.jpg                 GOOD               train\n",
              "/content/all_images/3.jpg                 GOOD               train\n",
              "/content/all_images/4.jpg                 GOOD               train\n",
              "...                                        ...                 ...\n",
              "/content/all_images/515L (C).jpg          GOOD               train\n",
              "/content/all_images/596L (c).jpg          GOOD               train\n",
              "/content/all_images/544L (C).jpg    ACCEPTABLE               train\n",
              "/content/all_images/538L (C).jpg    ACCEPTABLE                test\n",
              "/content/all_images/282L (C).jpg          POOR               train\n",
              "\n",
              "[6168 rows x 2 columns]"
            ],
            "text/html": [
              "\n",
              "  <div id=\"df-49f2f84f-6a75-4049-9ac4-9308463c2207\">\n",
              "    <div class=\"colab-df-container\">\n",
              "      <div>\n",
              "<style scoped>\n",
              "    .dataframe tbody tr th:only-of-type {\n",
              "        vertical-align: middle;\n",
              "    }\n",
              "\n",
              "    .dataframe tbody tr th {\n",
              "        vertical-align: top;\n",
              "    }\n",
              "\n",
              "    .dataframe thead th {\n",
              "        text-align: right;\n",
              "    }\n",
              "</style>\n",
              "<table border=\"1\" class=\"dataframe\">\n",
              "  <thead>\n",
              "    <tr style=\"text-align: right;\">\n",
              "      <th></th>\n",
              "      <th>image_quality</th>\n",
              "      <th>image_quality_split</th>\n",
              "    </tr>\n",
              "    <tr>\n",
              "      <th>path</th>\n",
              "      <th></th>\n",
              "      <th></th>\n",
              "    </tr>\n",
              "  </thead>\n",
              "  <tbody>\n",
              "    <tr>\n",
              "      <th>/content/all_images/0.jpg</th>\n",
              "      <td>NaN</td>\n",
              "      <td>NaN</td>\n",
              "    </tr>\n",
              "    <tr>\n",
              "      <th>/content/all_images/1.jpg</th>\n",
              "      <td>GOOD</td>\n",
              "      <td>train</td>\n",
              "    </tr>\n",
              "    <tr>\n",
              "      <th>/content/all_images/2.jpg</th>\n",
              "      <td>GOOD</td>\n",
              "      <td>train</td>\n",
              "    </tr>\n",
              "    <tr>\n",
              "      <th>/content/all_images/3.jpg</th>\n",
              "      <td>GOOD</td>\n",
              "      <td>train</td>\n",
              "    </tr>\n",
              "    <tr>\n",
              "      <th>/content/all_images/4.jpg</th>\n",
              "      <td>GOOD</td>\n",
              "      <td>train</td>\n",
              "    </tr>\n",
              "    <tr>\n",
              "      <th>...</th>\n",
              "      <td>...</td>\n",
              "      <td>...</td>\n",
              "    </tr>\n",
              "    <tr>\n",
              "      <th>/content/all_images/515L (C).jpg</th>\n",
              "      <td>GOOD</td>\n",
              "      <td>train</td>\n",
              "    </tr>\n",
              "    <tr>\n",
              "      <th>/content/all_images/596L (c).jpg</th>\n",
              "      <td>GOOD</td>\n",
              "      <td>train</td>\n",
              "    </tr>\n",
              "    <tr>\n",
              "      <th>/content/all_images/544L (C).jpg</th>\n",
              "      <td>ACCEPTABLE</td>\n",
              "      <td>train</td>\n",
              "    </tr>\n",
              "    <tr>\n",
              "      <th>/content/all_images/538L (C).jpg</th>\n",
              "      <td>ACCEPTABLE</td>\n",
              "      <td>test</td>\n",
              "    </tr>\n",
              "    <tr>\n",
              "      <th>/content/all_images/282L (C).jpg</th>\n",
              "      <td>POOR</td>\n",
              "      <td>train</td>\n",
              "    </tr>\n",
              "  </tbody>\n",
              "</table>\n",
              "<p>6168 rows × 2 columns</p>\n",
              "</div>\n",
              "      <button class=\"colab-df-convert\" onclick=\"convertToInteractive('df-49f2f84f-6a75-4049-9ac4-9308463c2207')\"\n",
              "              title=\"Convert this dataframe to an interactive table.\"\n",
              "              style=\"display:none;\">\n",
              "        \n",
              "  <svg xmlns=\"http://www.w3.org/2000/svg\" height=\"24px\"viewBox=\"0 0 24 24\"\n",
              "       width=\"24px\">\n",
              "    <path d=\"M0 0h24v24H0V0z\" fill=\"none\"/>\n",
              "    <path d=\"M18.56 5.44l.94 2.06.94-2.06 2.06-.94-2.06-.94-.94-2.06-.94 2.06-2.06.94zm-11 1L8.5 8.5l.94-2.06 2.06-.94-2.06-.94L8.5 2.5l-.94 2.06-2.06.94zm10 10l.94 2.06.94-2.06 2.06-.94-2.06-.94-.94-2.06-.94 2.06-2.06.94z\"/><path d=\"M17.41 7.96l-1.37-1.37c-.4-.4-.92-.59-1.43-.59-.52 0-1.04.2-1.43.59L10.3 9.45l-7.72 7.72c-.78.78-.78 2.05 0 2.83L4 21.41c.39.39.9.59 1.41.59.51 0 1.02-.2 1.41-.59l7.78-7.78 2.81-2.81c.8-.78.8-2.07 0-2.86zM5.41 20L4 18.59l7.72-7.72 1.47 1.35L5.41 20z\"/>\n",
              "  </svg>\n",
              "      </button>\n",
              "      \n",
              "  <style>\n",
              "    .colab-df-container {\n",
              "      display:flex;\n",
              "      flex-wrap:wrap;\n",
              "      gap: 12px;\n",
              "    }\n",
              "\n",
              "    .colab-df-convert {\n",
              "      background-color: #E8F0FE;\n",
              "      border: none;\n",
              "      border-radius: 50%;\n",
              "      cursor: pointer;\n",
              "      display: none;\n",
              "      fill: #1967D2;\n",
              "      height: 32px;\n",
              "      padding: 0 0 0 0;\n",
              "      width: 32px;\n",
              "    }\n",
              "\n",
              "    .colab-df-convert:hover {\n",
              "      background-color: #E2EBFA;\n",
              "      box-shadow: 0px 1px 2px rgba(60, 64, 67, 0.3), 0px 1px 3px 1px rgba(60, 64, 67, 0.15);\n",
              "      fill: #174EA6;\n",
              "    }\n",
              "\n",
              "    [theme=dark] .colab-df-convert {\n",
              "      background-color: #3B4455;\n",
              "      fill: #D2E3FC;\n",
              "    }\n",
              "\n",
              "    [theme=dark] .colab-df-convert:hover {\n",
              "      background-color: #434B5C;\n",
              "      box-shadow: 0px 1px 3px 1px rgba(0, 0, 0, 0.15);\n",
              "      filter: drop-shadow(0px 1px 2px rgba(0, 0, 0, 0.3));\n",
              "      fill: #FFFFFF;\n",
              "    }\n",
              "  </style>\n",
              "\n",
              "      <script>\n",
              "        const buttonEl =\n",
              "          document.querySelector('#df-49f2f84f-6a75-4049-9ac4-9308463c2207 button.colab-df-convert');\n",
              "        buttonEl.style.display =\n",
              "          google.colab.kernel.accessAllowed ? 'block' : 'none';\n",
              "\n",
              "        async function convertToInteractive(key) {\n",
              "          const element = document.querySelector('#df-49f2f84f-6a75-4049-9ac4-9308463c2207');\n",
              "          const dataTable =\n",
              "            await google.colab.kernel.invokeFunction('convertToInteractive',\n",
              "                                                     [key], {});\n",
              "          if (!dataTable) return;\n",
              "\n",
              "          const docLinkHtml = 'Like what you see? Visit the ' +\n",
              "            '<a target=\"_blank\" href=https://colab.research.google.com/notebooks/data_table.ipynb>data table notebook</a>'\n",
              "            + ' to learn more about interactive tables.';\n",
              "          element.innerHTML = '';\n",
              "          dataTable['output_type'] = 'display_data';\n",
              "          await google.colab.output.renderOutput(dataTable, element);\n",
              "          const docLink = document.createElement('div');\n",
              "          docLink.innerHTML = docLinkHtml;\n",
              "          element.appendChild(docLink);\n",
              "        }\n",
              "      </script>\n",
              "    </div>\n",
              "  </div>\n",
              "  "
            ]
          },
          "metadata": {},
          "execution_count": 16
        }
      ],
      "source": [
        "df.set_index('path', inplace=False)"
      ]
    },
    {
      "cell_type": "code",
      "execution_count": null,
      "metadata": {
        "id": "4FJMtfMAYrsU"
      },
      "outputs": [],
      "source": [
        "df = df.dropna(subset=['image_quality_split'])"
      ]
    },
    {
      "cell_type": "code",
      "execution_count": null,
      "metadata": {
        "id": "RhfqXvKHYs58"
      },
      "outputs": [],
      "source": [
        "from sklearn.preprocessing import LabelEncoder\n",
        "\n",
        "encoder = LabelEncoder()\n",
        "df['image_quality_encoded'] = encoder.fit_transform(df['image_quality'])"
      ]
    },
    {
      "cell_type": "code",
      "execution_count": null,
      "metadata": {
        "colab": {
          "base_uri": "https://localhost:8080/"
        },
        "id": "IV4VGJCd7yk_",
        "outputId": "d1ddc1d7-824f-426c-db6e-dbcbab208eca"
      },
      "outputs": [
        {
          "output_type": "stream",
          "name": "stdout",
          "text": [
            "                                  path image_quality image_quality_split  \\\n",
            "1            /content/all_images/1.jpg          GOOD               train   \n",
            "2            /content/all_images/2.jpg          GOOD               train   \n",
            "3            /content/all_images/3.jpg          GOOD               train   \n",
            "4            /content/all_images/4.jpg          GOOD               train   \n",
            "5            /content/all_images/5.jpg          GOOD               train   \n",
            "...                                ...           ...                 ...   \n",
            "6163  /content/all_images/515L (C).jpg          GOOD               train   \n",
            "6164  /content/all_images/596L (c).jpg          GOOD               train   \n",
            "6165  /content/all_images/544L (C).jpg    ACCEPTABLE               train   \n",
            "6166  /content/all_images/538L (C).jpg    ACCEPTABLE                test   \n",
            "6167  /content/all_images/282L (C).jpg          POOR               train   \n",
            "\n",
            "      image_quality_encoded  \n",
            "1                         1  \n",
            "2                         1  \n",
            "3                         1  \n",
            "4                         1  \n",
            "5                         1  \n",
            "...                     ...  \n",
            "6163                      1  \n",
            "6164                      1  \n",
            "6165                      0  \n",
            "6166                      0  \n",
            "6167                      2  \n",
            "\n",
            "[3638 rows x 4 columns]\n"
          ]
        }
      ],
      "source": [
        "print(df)"
      ]
    },
    {
      "cell_type": "code",
      "execution_count": null,
      "metadata": {
        "colab": {
          "base_uri": "https://localhost:8080/"
        },
        "id": "R0f97JoQYxy7",
        "outputId": "e008766a-f64a-4970-b7c6-f2fee32e61b0"
      },
      "outputs": [
        {
          "output_type": "stream",
          "name": "stderr",
          "text": [
            "<ipython-input-21-7c11b0f471c0>:6: SettingWithCopyWarning: \n",
            "A value is trying to be set on a copy of a slice from a DataFrame\n",
            "\n",
            "See the caveats in the documentation: https://pandas.pydata.org/pandas-docs/stable/user_guide/indexing.html#returning-a-view-versus-a-copy\n",
            "  test_df.drop(columns=['image_quality', 'image_quality_split'], inplace=True)\n"
          ]
        }
      ],
      "source": [
        "train_df = df[df['image_quality_split'] == 'train']\n",
        "train_df, val_df = train_test_split(train_df, test_size=729, random_state=42, stratify=train_df['image_quality_encoded'])\n",
        "test_df = df[df['image_quality_split'] == 'test']\n",
        "train_df.drop(columns=['image_quality', 'image_quality_split'], inplace=True)\n",
        "val_df.drop(columns=['image_quality', 'image_quality_split'], inplace=True)\n",
        "test_df.drop(columns=['image_quality', 'image_quality_split'], inplace=True)"
      ]
    },
    {
      "cell_type": "code",
      "execution_count": null,
      "metadata": {
        "colab": {
          "base_uri": "https://localhost:8080/"
        },
        "id": "lYXjSWcu_A16",
        "outputId": "248448ca-0b2a-4bee-96a7-720567eb6177"
      },
      "outputs": [
        {
          "output_type": "stream",
          "name": "stdout",
          "text": [
            "                                  path  image_quality_encoded\n",
            "25          /content/all_images/25.jpg                      1\n",
            "32          /content/all_images/32.jpg                      0\n",
            "33          /content/all_images/33.jpg                      1\n",
            "35          /content/all_images/35.jpg                      1\n",
            "48          /content/all_images/48.jpg                      1\n",
            "...                                ...                    ...\n",
            "6143  /content/all_images/541L (C).jpg                      1\n",
            "6144  /content/all_images/443R (C).jpg                      1\n",
            "6155  /content/all_images/394L (C).jpg                      0\n",
            "6158  /content/all_images/213R (C).jpg                      1\n",
            "6166  /content/all_images/538L (C).jpg                      0\n",
            "\n",
            "[729 rows x 2 columns]\n"
          ]
        }
      ],
      "source": [
        " print(test_df)"
      ]
    },
    {
      "cell_type": "code",
      "execution_count": null,
      "metadata": {
        "id": "XGv_IPQLddgM"
      },
      "outputs": [],
      "source": [
        "BATCH_SIZE = 32\n",
        "IMG_SIZE = (512, 512)\n",
        "EPOCHS = 20"
      ]
    },
    {
      "cell_type": "code",
      "execution_count": null,
      "metadata": {
        "id": "VP97B8_odkIP"
      },
      "outputs": [],
      "source": [
        "\n",
        "class CustomDataset(Dataset):\n",
        "    def __init__(self, dataframe, transform=None):\n",
        "        self.dataframe = dataframe\n",
        "        self.transform = transform\n",
        "\n",
        "    def __len__(self):\n",
        "        return len(self.dataframe)\n",
        "\n",
        "    def __getitem__(self, index):\n",
        "      img_path, label = self.dataframe.iloc[index]\n",
        "      try:\n",
        "        image = Image.open(img_path).convert('RGB')\n",
        "      except UnidentifiedImageError:\n",
        "        print(f\"Skipping corrupted or unsupported image: {img_path}\")\n",
        "        image = Image.new('RGB', (512, 512), color='white')\n",
        "      image = self.transform(image)\n",
        "      return image, label\n"
      ]
    },
    {
      "cell_type": "code",
      "execution_count": null,
      "metadata": {
        "id": "VtneM8uJgoGd"
      },
      "outputs": [],
      "source": [
        "train_transform = transforms.Compose([\n",
        "    transforms.RandomResizedCrop(IMG_SIZE),\n",
        "    transforms.RandomHorizontalFlip(),\n",
        "    transforms.ToTensor(),\n",
        "    transforms.Normalize(mean=[0.485, 0.456, 0.406], std=[0.229, 0.224, 0.225])\n",
        "])\n",
        "\n",
        "val_transform = transforms.Compose([\n",
        "    transforms.Resize(IMG_SIZE),\n",
        "    transforms.CenterCrop(IMG_SIZE),\n",
        "    transforms.ToTensor(),\n",
        "    transforms.Normalize(mean=[0.485, 0.456, 0.406], std=[0.229, 0.224, 0.225])\n",
        "])\n",
        "\n",
        "test_transform = val_transform"
      ]
    },
    {
      "cell_type": "code",
      "execution_count": null,
      "metadata": {
        "id": "v0mNVp3ggs9N"
      },
      "outputs": [],
      "source": [
        "train_dataset = CustomDataset(train_df, transform=train_transform)\n",
        "val_dataset = CustomDataset(val_df, transform=val_transform)\n",
        "test_dataset = CustomDataset(test_df, transform=test_transform)\n",
        "\n",
        "train_loader = DataLoader(train_dataset, batch_size=BATCH_SIZE, shuffle=True, num_workers=4)\n",
        "val_loader = DataLoader(val_dataset, batch_size=BATCH_SIZE, shuffle=False, num_workers=4)\n",
        "test_loader = DataLoader(test_dataset, batch_size=BATCH_SIZE, shuffle=False, num_workers=4)\n"
      ]
    },
    {
      "cell_type": "code",
      "execution_count": null,
      "metadata": {
        "id": "Odc6DmKlgvHg"
      },
      "outputs": [],
      "source": [
        "\n",
        "class Net(nn.Module):\n",
        "    def __init__(self):\n",
        "        super(Net, self).__init__()\n",
        "        self.model = models.resnet50(pretrained=True)\n",
        "\n",
        "        for param in self.model.parameters():\n",
        "            param.requires_grad = False\n",
        "        num_ftrs = self.model.fc.in_features\n",
        "        self.model.fc = nn.Sequential(\n",
        "            nn.Linear(num_ftrs, 512),\n",
        "            nn.ReLU(),\n",
        "            nn.Dropout(0.2),\n",
        "            nn.Linear(512, 3),\n",
        "            nn.Softmax(dim=1)\n",
        "        )\n",
        "\n",
        "    def forward(self, x):\n",
        "        x = self.model(x)\n",
        "        return x\n"
      ]
    },
    {
      "cell_type": "code",
      "execution_count": null,
      "metadata": {
        "colab": {
          "base_uri": "https://localhost:8080/"
        },
        "id": "wzWwLJK44XwJ",
        "outputId": "09c10b05-5a58-456f-e886-67f4f0c781f0"
      },
      "outputs": [
        {
          "output_type": "stream",
          "name": "stderr",
          "text": [
            "/usr/local/lib/python3.10/dist-packages/torchvision/models/_utils.py:208: UserWarning: The parameter 'pretrained' is deprecated since 0.13 and may be removed in the future, please use 'weights' instead.\n",
            "  warnings.warn(\n",
            "/usr/local/lib/python3.10/dist-packages/torchvision/models/_utils.py:223: UserWarning: Arguments other than a weight enum or `None` for 'weights' are deprecated since 0.13 and may be removed in the future. The current behavior is equivalent to passing `weights=ResNet50_Weights.IMAGENET1K_V1`. You can also use `weights=ResNet50_Weights.DEFAULT` to get the most up-to-date weights.\n",
            "  warnings.warn(msg)\n",
            "Downloading: \"https://download.pytorch.org/models/resnet50-0676ba61.pth\" to /root/.cache/torch/hub/checkpoints/resnet50-0676ba61.pth\n",
            "100%|██████████| 97.8M/97.8M [00:00<00:00, 287MB/s]\n"
          ]
        }
      ],
      "source": [
        "\n",
        "device = torch.device(\"cuda:0\" if torch.cuda.is_available() else \"cpu\")\n",
        "model = Net().to(device)\n"
      ]
    },
    {
      "cell_type": "code",
      "execution_count": null,
      "metadata": {
        "id": "sFyYRJTH4bH-"
      },
      "outputs": [],
      "source": [
        "\n",
        "criterion = nn.CrossEntropyLoss()\n",
        "optimizer = optim.SGD(model.parameters(), lr=0.001, momentum=0.9)"
      ]
    },
    {
      "cell_type": "code",
      "execution_count": null,
      "metadata": {
        "id": "HoAVAlsd03JR"
      },
      "outputs": [],
      "source": [
        "\n",
        "def train(model, data_loader, criterion, optimizer, device):\n",
        "    model.train()\n",
        "    running_loss = 0.0\n",
        "    correct = 0\n",
        "    total = 0\n",
        "\n",
        "    for images, labels in data_loader:\n",
        "        images = images.to(device)\n",
        "        labels = labels.to(device).long()\n",
        "\n",
        "        optimizer.zero_grad()\n",
        "        outputs = model(images)\n",
        "        loss = criterion(torch.log(outputs), labels)\n",
        "\n",
        "        loss.backward()\n",
        "        optimizer.step()\n",
        "\n",
        "        running_loss += loss.item()\n",
        "        _, predicted = torch.max(outputs.data, 1)\n",
        "        total += labels.size(0)\n",
        "        correct += (predicted == labels).sum().item()\n",
        "\n",
        "    return running_loss / len(data_loader), correct / total\n"
      ]
    },
    {
      "cell_type": "code",
      "execution_count": null,
      "metadata": {
        "id": "dk-VrANr1AA1"
      },
      "outputs": [],
      "source": [
        "\n",
        "def validate(model, data_loader, criterion, device):\n",
        "    model.eval()\n",
        "    running_loss = 0.0\n",
        "    correct = 0\n",
        "    total = 0\n",
        "\n",
        "    with torch.no_grad():\n",
        "        for images, labels in data_loader:\n",
        "            images = images.to(device)\n",
        "            labels = labels.to(device).long()\n",
        "\n",
        "            outputs = model(images)\n",
        "            loss = criterion(torch.log(outputs), labels)\n",
        "\n",
        "            running_loss += loss.item()\n",
        "            _, predicted = torch.max(outputs.data, 1)\n",
        "            total += labels.size(0)\n",
        "            correct += (predicted == labels).sum().item()\n",
        "\n",
        "    return running_loss / len(data_loader), correct / total"
      ]
    },
    {
      "cell_type": "code",
      "execution_count": null,
      "metadata": {
        "id": "-x8rV3Bv1BV2"
      },
      "outputs": [],
      "source": [
        "best_val_loss = 1.0\n",
        "best_model_path = '/content/drive/MyDrive/siriraj-eye-dataset/quality_model.pth'\n",
        "patience = 5\n",
        "wait = 0"
      ]
    },
    {
      "cell_type": "code",
      "execution_count": null,
      "metadata": {
        "colab": {
          "base_uri": "https://localhost:8080/"
        },
        "id": "DD_tiSUJ2gPi",
        "outputId": "ddce1a51-72cd-4ecc-913c-8a97c4c4cfb6"
      },
      "outputs": [
        {
          "output_type": "stream",
          "name": "stdout",
          "text": [
            "Epoch [1/20], Train Loss: 0.7935, Train Acc: 0.6362, Val Loss: 0.7726, Val Acc: 0.6475\n",
            "New best model found! Previous best: 0.8472, new best: 0.7726. Saving model...\n",
            "Epoch [2/20], Train Loss: 0.7389, Train Acc: 0.6670, Val Loss: 0.7297, Val Acc: 0.6818\n",
            "New best model found! Previous best: 0.7726, new best: 0.7297. Saving model...\n",
            "Epoch [3/20], Train Loss: 0.6949, Train Acc: 0.7005, Val Loss: 0.7212, Val Acc: 0.6872\n",
            "New best model found! Previous best: 0.7297, new best: 0.7212. Saving model...\n",
            "Epoch [4/20], Train Loss: 0.6717, Train Acc: 0.7041, Val Loss: 0.6994, Val Acc: 0.7037\n",
            "New best model found! Previous best: 0.7212, new best: 0.6994. Saving model...\n",
            "Epoch [5/20], Train Loss: 0.6801, Train Acc: 0.7170, Val Loss: 0.6793, Val Acc: 0.7010\n",
            "New best model found! Previous best: 0.6994, new best: 0.6793. Saving model...\n",
            "Epoch [6/20], Train Loss: 0.6516, Train Acc: 0.7170, Val Loss: 0.6683, Val Acc: 0.7106\n",
            "New best model found! Previous best: 0.6793, new best: 0.6683. Saving model...\n",
            "Epoch [7/20], Train Loss: 0.6677, Train Acc: 0.7133, Val Loss: 0.6777, Val Acc: 0.7092\n",
            "Epoch [8/20], Train Loss: 0.6679, Train Acc: 0.7142, Val Loss: 0.6677, Val Acc: 0.7106\n",
            "New best model found! Previous best: 0.6683, new best: 0.6677. Saving model...\n",
            "Epoch [9/20], Train Loss: 0.6507, Train Acc: 0.7055, Val Loss: 0.6836, Val Acc: 0.7078\n",
            "Epoch [10/20], Train Loss: 0.6415, Train Acc: 0.7193, Val Loss: 0.7001, Val Acc: 0.6982\n",
            "Epoch [11/20], Train Loss: 0.6396, Train Acc: 0.7170, Val Loss: 0.6643, Val Acc: 0.7119\n",
            "New best model found! Previous best: 0.6677, new best: 0.6643. Saving model...\n",
            "Epoch [12/20], Train Loss: 0.6349, Train Acc: 0.7156, Val Loss: 0.6751, Val Acc: 0.7037\n",
            "Epoch [13/20], Train Loss: 0.6502, Train Acc: 0.7060, Val Loss: 0.6471, Val Acc: 0.7119\n",
            "New best model found! Previous best: 0.6643, new best: 0.6471. Saving model...\n",
            "Epoch [14/20], Train Loss: 0.6219, Train Acc: 0.7367, Val Loss: 0.6458, Val Acc: 0.7119\n",
            "New best model found! Previous best: 0.6471, new best: 0.6458. Saving model...\n",
            "Epoch [15/20], Train Loss: 0.6440, Train Acc: 0.7344, Val Loss: 0.6407, Val Acc: 0.7188\n",
            "New best model found! Previous best: 0.6458, new best: 0.6407. Saving model...\n",
            "Epoch [16/20], Train Loss: 0.6280, Train Acc: 0.7225, Val Loss: 0.6440, Val Acc: 0.7147\n",
            "Epoch [17/20], Train Loss: 0.6095, Train Acc: 0.7294, Val Loss: 0.6360, Val Acc: 0.7229\n",
            "New best model found! Previous best: 0.6407, new best: 0.6360. Saving model...\n",
            "Epoch [18/20], Train Loss: 0.6195, Train Acc: 0.7339, Val Loss: 0.6334, Val Acc: 0.7188\n",
            "New best model found! Previous best: 0.6360, new best: 0.6334. Saving model...\n",
            "Epoch [19/20], Train Loss: 0.6251, Train Acc: 0.7239, Val Loss: 0.6570, Val Acc: 0.7106\n",
            "Epoch [20/20], Train Loss: 0.6245, Train Acc: 0.7206, Val Loss: 0.6988, Val Acc: 0.6996\n"
          ]
        }
      ],
      "source": [
        "for epoch in range(EPOCHS):\n",
        "    train_loss, train_acc = train(model, train_loader, criterion, optimizer, device)\n",
        "    val_loss, val_acc = validate(model, val_loader, criterion, device)\n",
        "    print(f'Epoch [{epoch+1}/{EPOCHS}], '\n",
        "          f'Train Loss: {train_loss:.4f}, Train Acc: {train_acc:.4f}, '\n",
        "          f'Val Loss: {val_loss:.4f}, Val Acc: {val_acc:.4f}')\n",
        "\n",
        "    if val_loss < best_val_loss:\n",
        "        print(f'New best model found! Previous best: {best_val_loss:.4f}, new best: {val_loss:.4f}. Saving model...')\n",
        "        torch.save(model.state_dict(), best_model_path)\n",
        "        best_val_loss = val_loss\n",
        "        wait = 0\n",
        "    else:\n",
        "        wait += 1\n",
        "\n",
        "    if wait > patience:\n",
        "        print(f'Early stopping after {epoch+1} epochs')\n",
        "        break"
      ]
    },
    {
      "cell_type": "code",
      "execution_count": null,
      "metadata": {
        "id": "TtFPRVnnJQAx"
      },
      "outputs": [],
      "source": [
        "from sklearn.metrics import confusion_matrix\n",
        "import seaborn as sns\n",
        "\n",
        "def evaluate(model, test_loader, device):\n",
        "    model.eval()\n",
        "    correct = 0\n",
        "    total = 0\n",
        "    all_labels = []\n",
        "    all_predictions = []\n",
        "\n",
        "    with torch.no_grad():\n",
        "        for images, labels in test_loader:\n",
        "            images = images.to(device)\n",
        "            labels = labels.to(device).long()\n",
        "\n",
        "            outputs = model(images)\n",
        "            _, predicted = torch.max(outputs.data, 1)\n",
        "            total += labels.size(0)\n",
        "            correct += (predicted == labels).sum().item()\n",
        "\n",
        "            all_labels.extend(labels.cpu().numpy())\n",
        "            all_predictions.extend(predicted.cpu().numpy())\n",
        "\n",
        "    print(f'Test Accuracy: {correct / total:.4f}')\n",
        "\n",
        "    cm = confusion_matrix(all_labels, all_predictions)\n",
        "    cm_df = pd.DataFrame(cm, index=['ACCEPTABLE', 'GOOD', 'POOR'], columns=['ACCEPTABLE', 'GOOD', 'POOR'])\n",
        "\n",
        "    plt.figure(figsize=(10,7))\n",
        "    sns.heatmap(cm_df, annot=True, fmt='d', cmap = 'Blues')\n",
        "    plt.title('Confusion Matrix')\n",
        "    plt.ylabel('True Label')\n",
        "    plt.xlabel('Predicted Label')\n",
        "    plt.show()\n"
      ]
    },
    {
      "cell_type": "code",
      "execution_count": null,
      "metadata": {
        "colab": {
          "base_uri": "https://localhost:8080/",
          "height": 659
        },
        "id": "OqVnfaW9OEhn",
        "outputId": "cd409eda-a754-48bd-ea04-041c46e49431"
      },
      "outputs": [
        {
          "output_type": "stream",
          "name": "stdout",
          "text": [
            "Test Accuracy: 0.7229\n"
          ]
        },
        {
          "output_type": "display_data",
          "data": {
            "text/plain": [
              "<Figure size 1000x700 with 2 Axes>"
            ],
            "image/png": "[encoded data removed]"
          },
          "metadata": {}
        }
      ],
      "source": [
        "model.load_state_dict(torch.load('/content/drive/MyDrive/siriraj-eye-dataset/quality_model.pth'))\n",
        "evaluate(model, test_loader, device)"
      ]
    },
    {
      "cell_type": "code",
      "source": [],
      "metadata": {
        "id": "kusmzjuuwqJi"
      },
      "execution_count": null,
      "outputs": []
    }
  ],
  "metadata": {
    "accelerator": "GPU",
    "colab": {
      "machine_shape": "hm",
      "provenance": [],
      "gpuType": "A100"
    },
    "kernelspec": {
      "display_name": "Python 3",
      "name": "python3"
    },
    "language_info": {
      "name": "python"
    }
  },
  "nbformat": 4,
  "nbformat_minor": 0
}