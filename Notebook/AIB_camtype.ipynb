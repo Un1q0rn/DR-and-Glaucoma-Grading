{
  "nbformat": 4,
  "nbformat_minor": 0,
  "metadata": {
    "colab": {
      "provenance": [],
      "machine_shape": "hm",
      "gpuType": "A100"
    },
    "kernelspec": {
      "name": "python3",
      "display_name": "Python 3"
    },
    "language_info": {
      "name": "python"
    },
    "gpuClass": "standard",
    "accelerator": "GPU"
  },
  "cells": [
    {
      "cell_type": "code",
      "execution_count": null,
      "metadata": {
        "id": "WEQR6dVf85bj"
      },
      "outputs": [],
      "source": [
        "import os\n",
        "import pandas as pd\n",
        "import numpy as np\n",
        "import matplotlib.pyplot as plt\n",
        "from sklearn.model_selection import train_test_split\n",
        "from sklearn.metrics import classification_report, confusion_matrix\n",
        "from sklearn.preprocessing import LabelEncoder\n",
        "import torch\n",
        "import torch.nn as nn\n",
        "import torch.optim as optim\n",
        "from torch.utils.data import Dataset, DataLoader\n",
        "from torchvision import models, transforms\n",
        "from PIL import Image\n",
        "from PIL import UnidentifiedImageError\n"
      ]
    },
    {
      "cell_type": "code",
      "source": [
        "!unzip /content/drive/MyDrive/siriraj-eye-dataset/Image/all_images-001.zip"
      ],
      "metadata": {
        "id": "qB36uenQ3KcA"
      },
      "execution_count": null,
      "outputs": []
    },
    {
      "cell_type": "code",
      "source": [
        "import os\n",
        "\n",
        "folder_path = '/content/all_images'\n",
        "num_files = len([f for f in os.listdir(folder_path) if os.path.isfile(os.path.join(folder_path, f))])\n",
        "\n",
        "print(f'There are {num_files} files in the folder.')\n"
      ],
      "metadata": {
        "id": "k-EMzg94K09p"
      },
      "execution_count": null,
      "outputs": []
    },
    {
      "cell_type": "code",
      "source": [
        "csv_file_path = '/content/drive/MyDrive/siriraj-eye-dataset/all_labels_processed.csv'\n",
        "df = pd.read_csv(csv_file_path)\n",
        "\n",
        "df = df.drop(columns=['dr_label','image_quality','glaucoma_suspect', 'has_cup', 'has_disc', 'filename', 'image_quality_split', 'dr_label_split', 'has_cup_split', 'has_disc_split'])\n",
        "\n",
        "old_base_path = '../dataset/siriraj-eye-dataset-2023-jan/all_images'\n",
        "new_base_path = '/content/all_images'\n",
        "#df['path'] = df['path'].apply(lambda x: x.replace(old_base_path, new_base_path))\n",
        "df['path'] = df['path'].apply(lambda x: x.replace(old_base_path, new_base_path).replace('\\\\', '/'))\n",
        "\n",
        "#df.to_csv(csv_file_path, index=False)\n"
      ],
      "metadata": {
        "id": "KkXZvKb_MG6v"
      },
      "execution_count": null,
      "outputs": []
    },
    {
      "cell_type": "code",
      "source": [
        "df.set_index('path', inplace=False)"
      ],
      "metadata": {
        "colab": {
          "base_uri": "https://localhost:8080/",
          "height": 455
        },
        "id": "g3M3D3__c28e",
        "outputId": "dc2bf513-1695-4f05-b492-da2a2dbcf18d"
      },
      "execution_count": null,
      "outputs": [
        {
          "output_type": "execute_result",
          "data": {
            "text/plain": [
              "                                 camera\n",
              "path                                   \n",
              "/content/all_images/0.jpg         Nidek\n",
              "/content/all_images/1.jpg         Nidek\n",
              "/content/all_images/2.jpg         Nidek\n",
              "/content/all_images/3.jpg         Nidek\n",
              "/content/all_images/4.jpg         Nidek\n",
              "...                                 ...\n",
              "/content/all_images/515L (C).jpg  Nidek\n",
              "/content/all_images/596L (c).jpg  Nidek\n",
              "/content/all_images/544L (C).jpg  Nidek\n",
              "/content/all_images/538L (C).jpg  Nidek\n",
              "/content/all_images/282L (C).jpg  Nidek\n",
              "\n",
              "[6168 rows x 1 columns]"
            ],
            "text/html": [
              "\n",
              "  <div id=\"df-34134d09-6490-4f71-8abf-33a668c71772\">\n",
              "    <div class=\"colab-df-container\">\n",
              "      <div>\n",
              "<style scoped>\n",
              "    .dataframe tbody tr th:only-of-type {\n",
              "        vertical-align: middle;\n",
              "    }\n",
              "\n",
              "    .dataframe tbody tr th {\n",
              "        vertical-align: top;\n",
              "    }\n",
              "\n",
              "    .dataframe thead th {\n",
              "        text-align: right;\n",
              "    }\n",
              "</style>\n",
              "<table border=\"1\" class=\"dataframe\">\n",
              "  <thead>\n",
              "    <tr style=\"text-align: right;\">\n",
              "      <th></th>\n",
              "      <th>camera</th>\n",
              "    </tr>\n",
              "    <tr>\n",
              "      <th>path</th>\n",
              "      <th></th>\n",
              "    </tr>\n",
              "  </thead>\n",
              "  <tbody>\n",
              "    <tr>\n",
              "      <th>/content/all_images/0.jpg</th>\n",
              "      <td>Nidek</td>\n",
              "    </tr>\n",
              "    <tr>\n",
              "      <th>/content/all_images/1.jpg</th>\n",
              "      <td>Nidek</td>\n",
              "    </tr>\n",
              "    <tr>\n",
              "      <th>/content/all_images/2.jpg</th>\n",
              "      <td>Nidek</td>\n",
              "    </tr>\n",
              "    <tr>\n",
              "      <th>/content/all_images/3.jpg</th>\n",
              "      <td>Nidek</td>\n",
              "    </tr>\n",
              "    <tr>\n",
              "      <th>/content/all_images/4.jpg</th>\n",
              "      <td>Nidek</td>\n",
              "    </tr>\n",
              "    <tr>\n",
              "      <th>...</th>\n",
              "      <td>...</td>\n",
              "    </tr>\n",
              "    <tr>\n",
              "      <th>/content/all_images/515L (C).jpg</th>\n",
              "      <td>Nidek</td>\n",
              "    </tr>\n",
              "    <tr>\n",
              "      <th>/content/all_images/596L (c).jpg</th>\n",
              "      <td>Nidek</td>\n",
              "    </tr>\n",
              "    <tr>\n",
              "      <th>/content/all_images/544L (C).jpg</th>\n",
              "      <td>Nidek</td>\n",
              "    </tr>\n",
              "    <tr>\n",
              "      <th>/content/all_images/538L (C).jpg</th>\n",
              "      <td>Nidek</td>\n",
              "    </tr>\n",
              "    <tr>\n",
              "      <th>/content/all_images/282L (C).jpg</th>\n",
              "      <td>Nidek</td>\n",
              "    </tr>\n",
              "  </tbody>\n",
              "</table>\n",
              "<p>6168 rows × 1 columns</p>\n",
              "</div>\n",
              "      <button class=\"colab-df-convert\" onclick=\"convertToInteractive('df-34134d09-6490-4f71-8abf-33a668c71772')\"\n",
              "              title=\"Convert this dataframe to an interactive table.\"\n",
              "              style=\"display:none;\">\n",
              "        \n",
              "  <svg xmlns=\"http://www.w3.org/2000/svg\" height=\"24px\"viewBox=\"0 0 24 24\"\n",
              "       width=\"24px\">\n",
              "    <path d=\"M0 0h24v24H0V0z\" fill=\"none\"/>\n",
              "    <path d=\"M18.56 5.44l.94 2.06.94-2.06 2.06-.94-2.06-.94-.94-2.06-.94 2.06-2.06.94zm-11 1L8.5 8.5l.94-2.06 2.06-.94-2.06-.94L8.5 2.5l-.94 2.06-2.06.94zm10 10l.94 2.06.94-2.06 2.06-.94-2.06-.94-.94-2.06-.94 2.06-2.06.94z\"/><path d=\"M17.41 7.96l-1.37-1.37c-.4-.4-.92-.59-1.43-.59-.52 0-1.04.2-1.43.59L10.3 9.45l-7.72 7.72c-.78.78-.78 2.05 0 2.83L4 21.41c.39.39.9.59 1.41.59.51 0 1.02-.2 1.41-.59l7.78-7.78 2.81-2.81c.8-.78.8-2.07 0-2.86zM5.41 20L4 18.59l7.72-7.72 1.47 1.35L5.41 20z\"/>\n",
              "  </svg>\n",
              "      </button>\n",
              "      \n",
              "  <style>\n",
              "    .colab-df-container {\n",
              "      display:flex;\n",
              "      flex-wrap:wrap;\n",
              "      gap: 12px;\n",
              "    }\n",
              "\n",
              "    .colab-df-convert {\n",
              "      background-color: #E8F0FE;\n",
              "      border: none;\n",
              "      border-radius: 50%;\n",
              "      cursor: pointer;\n",
              "      display: none;\n",
              "      fill: #1967D2;\n",
              "      height: 32px;\n",
              "      padding: 0 0 0 0;\n",
              "      width: 32px;\n",
              "    }\n",
              "\n",
              "    .colab-df-convert:hover {\n",
              "      background-color: #E2EBFA;\n",
              "      box-shadow: 0px 1px 2px rgba(60, 64, 67, 0.3), 0px 1px 3px 1px rgba(60, 64, 67, 0.15);\n",
              "      fill: #174EA6;\n",
              "    }\n",
              "\n",
              "    [theme=dark] .colab-df-convert {\n",
              "      background-color: #3B4455;\n",
              "      fill: #D2E3FC;\n",
              "    }\n",
              "\n",
              "    [theme=dark] .colab-df-convert:hover {\n",
              "      background-color: #434B5C;\n",
              "      box-shadow: 0px 1px 3px 1px rgba(0, 0, 0, 0.15);\n",
              "      filter: drop-shadow(0px 1px 2px rgba(0, 0, 0, 0.3));\n",
              "      fill: #FFFFFF;\n",
              "    }\n",
              "  </style>\n",
              "\n",
              "      <script>\n",
              "        const buttonEl =\n",
              "          document.querySelector('#df-34134d09-6490-4f71-8abf-33a668c71772 button.colab-df-convert');\n",
              "        buttonEl.style.display =\n",
              "          google.colab.kernel.accessAllowed ? 'block' : 'none';\n",
              "\n",
              "        async function convertToInteractive(key) {\n",
              "          const element = document.querySelector('#df-34134d09-6490-4f71-8abf-33a668c71772');\n",
              "          const dataTable =\n",
              "            await google.colab.kernel.invokeFunction('convertToInteractive',\n",
              "                                                     [key], {});\n",
              "          if (!dataTable) return;\n",
              "\n",
              "          const docLinkHtml = 'Like what you see? Visit the ' +\n",
              "            '<a target=\"_blank\" href=https://colab.research.google.com/notebooks/data_table.ipynb>data table notebook</a>'\n",
              "            + ' to learn more about interactive tables.';\n",
              "          element.innerHTML = '';\n",
              "          dataTable['output_type'] = 'display_data';\n",
              "          await google.colab.output.renderOutput(dataTable, element);\n",
              "          const docLink = document.createElement('div');\n",
              "          docLink.innerHTML = docLinkHtml;\n",
              "          element.appendChild(docLink);\n",
              "        }\n",
              "      </script>\n",
              "    </div>\n",
              "  </div>\n",
              "  "
            ]
          },
          "metadata": {},
          "execution_count": 12
        }
      ]
    },
    {
      "cell_type": "code",
      "source": [
        "from sklearn.preprocessing import LabelEncoder\n",
        "\n",
        "encoder = LabelEncoder()\n",
        "df['camera_label'] = encoder.fit_transform(df['camera'])\n"
      ],
      "metadata": {
        "id": "R7LcrFPKKslk"
      },
      "execution_count": null,
      "outputs": []
    },
    {
      "cell_type": "code",
      "source": [
        "train_df, temp_df = train_test_split(df, test_size=0.3, random_state=42)\n",
        "\n",
        "val_df, test_df = train_test_split(temp_df, test_size=(1/3), random_state=42)\n",
        "\n",
        "train_df = train_df[[\"path\", \"camera_label\"]]\n",
        "val_df = val_df[[\"path\", \"camera_label\"]]\n",
        "test_df = test_df[[\"path\",\"camera_label\"]]"
      ],
      "metadata": {
        "id": "TXH6BKHHc42T"
      },
      "execution_count": null,
      "outputs": []
    },
    {
      "cell_type": "code",
      "source": [
        "print(train_df)"
      ],
      "metadata": {
        "colab": {
          "base_uri": "https://localhost:8080/"
        },
        "id": "jE06q1l_iEGa",
        "outputId": "0924b0a7-1c5a-4725-c725-10146b8cbf89"
      },
      "execution_count": null,
      "outputs": [
        {
          "output_type": "stream",
          "name": "stdout",
          "text": [
            "                                             path  camera_label\n",
            "3454                 /content/all_images/3454.jpg             0\n",
            "1467                 /content/all_images/1467.jpg             1\n",
            "2117                 /content/all_images/2117.jpg             1\n",
            "195                   /content/all_images/195.jpg             1\n",
            "5666             /content/all_images/271R (C).jpg             1\n",
            "...                                           ...           ...\n",
            "3772                 /content/all_images/3772.jpg             0\n",
            "5191             /content/all_images/050L (2).jpg             1\n",
            "5226             /content/all_images/158L (C).jpg             1\n",
            "5390  /content/all_images/417L no consent (C).jpg             1\n",
            "860                   /content/all_images/860.jpg             1\n",
            "\n",
            "[4317 rows x 2 columns]\n"
          ]
        }
      ]
    },
    {
      "cell_type": "code",
      "source": [
        "BATCH_SIZE = 32\n",
        "IMG_SIZE = (224, 224)\n",
        "EPOCHS = 20"
      ],
      "metadata": {
        "id": "ltcszvubMeE8"
      },
      "execution_count": null,
      "outputs": []
    },
    {
      "cell_type": "code",
      "source": [
        "\n",
        "class CustomDataset(Dataset):\n",
        "    def __init__(self, dataframe, transform=None):\n",
        "        self.dataframe = dataframe\n",
        "        self.transform = transform\n",
        "\n",
        "    def __len__(self):\n",
        "        return len(self.dataframe)\n",
        "\n",
        "    def __getitem__(self, index):\n",
        "      img_path, label = self.dataframe.iloc[index]\n",
        "      try:\n",
        "        image = Image.open(img_path).convert('RGB')\n",
        "      except UnidentifiedImageError:\n",
        "        print(f\"Skipping corrupted or unsupported image: {img_path}\")\n",
        "        image = Image.new('RGB', (224, 224), color='white')\n",
        "      image = self.transform(image)\n",
        "      return image, label\n"
      ],
      "metadata": {
        "id": "lAOcQkxGLgQX"
      },
      "execution_count": null,
      "outputs": []
    },
    {
      "cell_type": "code",
      "source": [
        "\n",
        "train_transforms = transforms.Compose([\n",
        "    transforms.RandomResizedCrop(IMG_SIZE),\n",
        "    transforms.RandomHorizontalFlip(),\n",
        "    transforms.RandomRotation(20),\n",
        "    transforms.ToTensor(),\n",
        "    transforms.Normalize(mean=[0.485, 0.456, 0.406], std=[0.229, 0.224, 0.225])\n",
        "])\n",
        "\n",
        "val_test_transforms = transforms.Compose([\n",
        "    transforms.Resize(IMG_SIZE),\n",
        "    transforms.CenterCrop(IMG_SIZE),\n",
        "    transforms.ToTensor(),\n",
        "    transforms.Normalize(mean=[0.485, 0.456, 0.406], std=[0.229, 0.224, 0.225])\n",
        "])"
      ],
      "metadata": {
        "id": "S2M7UPMHJap8"
      },
      "execution_count": null,
      "outputs": []
    },
    {
      "cell_type": "code",
      "source": [
        "\n",
        "train_dataset = CustomDataset(train_df, transform=train_transforms)\n",
        "val_dataset = CustomDataset(val_df, transform=val_test_transforms)\n",
        "test_dataset = CustomDataset(test_df, transform=val_test_transforms)\n",
        "\n",
        "train_loader = DataLoader(train_dataset, batch_size=BATCH_SIZE, shuffle=True, num_workers=4)\n",
        "val_loader = DataLoader(val_dataset, batch_size=BATCH_SIZE, shuffle=False, num_workers=4)\n",
        "test_loader = DataLoader(test_dataset, batch_size=BATCH_SIZE, shuffle=False, num_workers=4)\n"
      ],
      "metadata": {
        "id": "hxexoMMlTmhi"
      },
      "execution_count": null,
      "outputs": []
    },
    {
      "cell_type": "code",
      "source": [
        "class_counts = df['camera'].value_counts()\n",
        "print(class_counts)\n"
      ],
      "metadata": {
        "colab": {
          "base_uri": "https://localhost:8080/"
        },
        "id": "1gd7XUZoLE7u",
        "outputId": "56505532-8a05-49d6-b12e-41e0710f5fea"
      },
      "execution_count": null,
      "outputs": [
        {
          "output_type": "stream",
          "name": "stdout",
          "text": [
            "Nidek    3984\n",
            "Eidon    2184\n",
            "Name: camera, dtype: int64\n"
          ]
        }
      ]
    },
    {
      "cell_type": "code",
      "source": [
        "import seaborn as sns\n",
        "\n",
        "sns.set(style=\"whitegrid\")\n",
        "ax = sns.barplot(x=class_counts.index, y=class_counts.values, palette=\"Blues_d\")\n",
        "ax.set_xlabel(\"Camera Type\")\n",
        "ax.set_ylabel(\"Number of Images\")\n",
        "plt.show()\n"
      ],
      "metadata": {
        "colab": {
          "base_uri": "https://localhost:8080/",
          "height": 458
        },
        "id": "rw5o3bz5L0E1",
        "outputId": "8b032ae2-37be-40f5-f4d6-d038ee84a964"
      },
      "execution_count": null,
      "outputs": [
        {
          "output_type": "display_data",
          "data": {
            "text/plain": [
              "<Figure size 640x480 with 1 Axes>"
            ],
            "image/png": "[encoded data removed]"
          },
          "metadata": {}
        }
      ]
    },
    {
      "cell_type": "code",
      "source": [
        "\n",
        "model = models.resnet50(pretrained=True)\n",
        "num_features = model.fc.in_features\n",
        "model.fc = nn.Linear(num_features, 1)"
      ],
      "metadata": {
        "colab": {
          "base_uri": "https://localhost:8080/"
        },
        "id": "ESpYQhW5L3-U",
        "outputId": "95411c8e-4b9d-4ac7-b911-4f4131dd8e9d"
      },
      "execution_count": null,
      "outputs": [
        {
          "output_type": "stream",
          "name": "stderr",
          "text": [
            "/usr/local/lib/python3.10/dist-packages/torchvision/models/_utils.py:208: UserWarning: The parameter 'pretrained' is deprecated since 0.13 and may be removed in the future, please use 'weights' instead.\n",
            "  warnings.warn(\n",
            "/usr/local/lib/python3.10/dist-packages/torchvision/models/_utils.py:223: UserWarning: Arguments other than a weight enum or `None` for 'weights' are deprecated since 0.13 and may be removed in the future. The current behavior is equivalent to passing `weights=ResNet50_Weights.IMAGENET1K_V1`. You can also use `weights=ResNet50_Weights.DEFAULT` to get the most up-to-date weights.\n",
            "  warnings.warn(msg)\n"
          ]
        }
      ]
    },
    {
      "cell_type": "code",
      "source": [
        "\n",
        "criterion = nn.BCEWithLogitsLoss()\n",
        "optimizer = optim.Adam(model.parameters(), lr=0.001)"
      ],
      "metadata": {
        "id": "YNAHqS6rMO19"
      },
      "execution_count": null,
      "outputs": []
    },
    {
      "cell_type": "code",
      "source": [
        "\n",
        "device = torch.device(\"cuda:0\" if torch.cuda.is_available() else \"cpu\")\n",
        "model = model.to(device)"
      ],
      "metadata": {
        "id": "zI_a5ZNOT1na"
      },
      "execution_count": null,
      "outputs": []
    },
    {
      "cell_type": "code",
      "source": [
        "\n",
        "def train(model, data_loader, criterion, optimizer, device):\n",
        "    model.train()\n",
        "    running_loss = 0.0\n",
        "    correct = 0\n",
        "    total = 0\n",
        "\n",
        "    for images, labels in data_loader:\n",
        "        images = images.to(device)\n",
        "        labels = labels.to(device).float().view(-1, 1)\n",
        "\n",
        "        optimizer.zero_grad()\n",
        "        outputs = model(images)\n",
        "        loss = criterion(outputs, labels)\n",
        "\n",
        "        loss.backward()\n",
        "        optimizer.step()\n",
        "\n",
        "        running_loss += loss.item()\n",
        "        predicted = (torch.sigmoid(outputs) > 0.5).float()\n",
        "        total += labels.size(0)\n",
        "        correct += (predicted == labels).sum().item()\n",
        "\n",
        "    return running_loss / len(data_loader), correct / total"
      ],
      "metadata": {
        "id": "0CLrIMOeMVTd"
      },
      "execution_count": null,
      "outputs": []
    },
    {
      "cell_type": "code",
      "source": [
        "\n",
        "def validate(model, data_loader, criterion, device):\n",
        "    model.eval()\n",
        "    running_loss = 0.0\n",
        "    correct = 0\n",
        "    total = 0\n",
        "\n",
        "    with torch.no_grad():\n",
        "        for images, labels in data_loader:\n",
        "            images = images.to(device)\n",
        "            labels = labels.to(device).float().view(-1, 1)\n",
        "\n",
        "            outputs = model(images)\n",
        "            loss = criterion(outputs, labels)\n",
        "\n",
        "            running_loss += loss.item()\n",
        "            predicted = (torch.sigmoid(outputs) > 0.5).float()\n",
        "            total += labels.size(0)\n",
        "            correct += (predicted == labels).sum().item()\n",
        "\n",
        "    return running_loss / len(data_loader), correct / total"
      ],
      "metadata": {
        "id": "qkeM2oHnUqMb"
      },
      "execution_count": null,
      "outputs": []
    },
    {
      "cell_type": "code",
      "source": [
        "\n",
        "for epoch in range(EPOCHS):\n",
        "    train_loss, train_acc = train(model, train_loader, criterion, optimizer, device)\n",
        "    val_loss, val_acc = validate(model, val_loader, criterion, device)\n",
        "\n",
        "    print(f'Epoch [{epoch+1}/{EPOCHS}], '\n",
        "          f'Train Loss: {train_loss:.4f}, Train Acc: {train_acc:.4f}, '\n",
        "          f'Val Loss: {val_loss:.4f}, Val Acc: {val_acc:.4f}')\n"
      ],
      "metadata": {
        "colab": {
          "base_uri": "https://localhost:8080/"
        },
        "id": "he8dQb7MUqNN",
        "outputId": "5fed5825-1883-444c-ac0f-4311ac92a4d5"
      },
      "execution_count": null,
      "outputs": [
        {
          "output_type": "stream",
          "name": "stdout",
          "text": [
            "Skipping corrupted or unsupported image: /content/all_images/1878.jpg\n",
            "Epoch [1/20], Train Loss: 0.0852, Train Acc: 0.9706, Val Loss: 0.0340, Val Acc: 0.9943\n",
            "Skipping corrupted or unsupported image: /content/all_images/1878.jpg\n",
            "Epoch [2/20], Train Loss: 0.0351, Train Acc: 0.9907, Val Loss: 0.0164, Val Acc: 0.9976\n",
            "Skipping corrupted or unsupported image: /content/all_images/1878.jpg\n",
            "Epoch [3/20], Train Loss: 0.0315, Train Acc: 0.9900, Val Loss: 0.0033, Val Acc: 0.9992\n",
            "Skipping corrupted or unsupported image: /content/all_images/1878.jpg\n",
            "Epoch [4/20], Train Loss: 0.0307, Train Acc: 0.9903, Val Loss: 0.0052, Val Acc: 1.0000\n",
            "Skipping corrupted or unsupported image: /content/all_images/1878.jpg\n",
            "Epoch [5/20], Train Loss: 0.0240, Train Acc: 0.9933, Val Loss: 0.0110, Val Acc: 0.9984\n",
            "Skipping corrupted or unsupported image: /content/all_images/1878.jpg\n",
            "Epoch [6/20], Train Loss: 0.0162, Train Acc: 0.9954, Val Loss: 0.0109, Val Acc: 0.9976\n",
            "Skipping corrupted or unsupported image: /content/all_images/1878.jpg\n",
            "Epoch [7/20], Train Loss: 0.0207, Train Acc: 0.9937, Val Loss: 0.0212, Val Acc: 0.9976\n",
            "Skipping corrupted or unsupported image: /content/all_images/1878.jpg\n",
            "Epoch [8/20], Train Loss: 0.0200, Train Acc: 0.9937, Val Loss: 0.1942, Val Acc: 0.9546\n",
            "Skipping corrupted or unsupported image: /content/all_images/1878.jpg\n",
            "Epoch [9/20], Train Loss: 0.0183, Train Acc: 0.9961, Val Loss: 0.0085, Val Acc: 0.9984\n",
            "Skipping corrupted or unsupported image: /content/all_images/1878.jpg\n",
            "Epoch [10/20], Train Loss: 0.0280, Train Acc: 0.9926, Val Loss: 0.0073, Val Acc: 0.9976\n",
            "Skipping corrupted or unsupported image: /content/all_images/1878.jpg\n",
            "Epoch [11/20], Train Loss: 0.0179, Train Acc: 0.9951, Val Loss: 0.0110, Val Acc: 0.9968\n",
            "Skipping corrupted or unsupported image: /content/all_images/1878.jpg\n",
            "Epoch [12/20], Train Loss: 0.0110, Train Acc: 0.9970, Val Loss: 0.0057, Val Acc: 0.9984\n",
            "Skipping corrupted or unsupported image: /content/all_images/1878.jpg\n",
            "Epoch [13/20], Train Loss: 0.0145, Train Acc: 0.9965, Val Loss: 0.0073, Val Acc: 0.9992\n",
            "Skipping corrupted or unsupported image: /content/all_images/1878.jpg\n",
            "Epoch [14/20], Train Loss: 0.0186, Train Acc: 0.9947, Val Loss: 0.1733, Val Acc: 0.9190\n",
            "Skipping corrupted or unsupported image: /content/all_images/1878.jpg\n",
            "Epoch [15/20], Train Loss: 0.0215, Train Acc: 0.9944, Val Loss: 0.0064, Val Acc: 0.9984\n",
            "Skipping corrupted or unsupported image: /content/all_images/1878.jpg\n",
            "Epoch [16/20], Train Loss: 0.0148, Train Acc: 0.9958, Val Loss: 0.0171, Val Acc: 0.9976\n",
            "Skipping corrupted or unsupported image: /content/all_images/1878.jpg\n",
            "Epoch [17/20], Train Loss: 0.0138, Train Acc: 0.9958, Val Loss: 0.0743, Val Acc: 0.9708\n",
            "Skipping corrupted or unsupported image: /content/all_images/1878.jpg\n",
            "Epoch [18/20], Train Loss: 0.0106, Train Acc: 0.9965, Val Loss: 0.0068, Val Acc: 0.9976\n",
            "Skipping corrupted or unsupported image: /content/all_images/1878.jpg\n",
            "Epoch [19/20], Train Loss: 0.0134, Train Acc: 0.9965, Val Loss: 0.0273, Val Acc: 0.9951\n",
            "Skipping corrupted or unsupported image: /content/all_images/1878.jpg\n",
            "Epoch [20/20], Train Loss: 0.0145, Train Acc: 0.9958, Val Loss: 0.0050, Val Acc: 0.9984\n"
          ]
        }
      ]
    },
    {
      "cell_type": "code",
      "source": [
        "test_loss, test_acc = validate(model, val_loader, criterion, device)\n",
        "print(f'Test Loss: {test_loss:.4f}, Test Acc: {test_acc:.4f}')"
      ],
      "metadata": {
        "colab": {
          "base_uri": "https://localhost:8080/"
        },
        "id": "OMYug26Aps4R",
        "outputId": "0b672043-96b8-4307-ea05-e619b8b8de47"
      },
      "execution_count": null,
      "outputs": [
        {
          "output_type": "stream",
          "name": "stdout",
          "text": [
            "Test Loss: 0.0050, Test Acc: 0.9984\n"
          ]
        }
      ]
    },
    {
      "cell_type": "code",
      "source": [
        "\n",
        "model_save_path = '/content/drive/MyDrive/siriraj-eye-dataset/model.pth'\n",
        "torch.save(model.state_dict(), model_save_path)\n",
        "print(f'Model saved to {model_save_path}')"
      ],
      "metadata": {
        "colab": {
          "base_uri": "https://localhost:8080/"
        },
        "id": "eJt9-ZPjpus2",
        "outputId": "cbec4f44-16a0-49dc-eb70-4453c59d67e3"
      },
      "execution_count": null,
      "outputs": [
        {
          "output_type": "stream",
          "name": "stdout",
          "text": [
            "Model saved to /content/drive/MyDrive/siriraj-eye-dataset/model.pth\n"
          ]
        }
      ]
    },
    {
      "cell_type": "code",
      "source": [
        "\n",
        "model_load_path = '/content/drive/MyDrive/siriraj-eye-dataset/camtype_model.pth'\n",
        "loaded_model = models.resnet50(pretrained=True)\n",
        "num_features = loaded_model.fc.in_features\n",
        "loaded_model.fc = nn.Linear(num_features, 1)\n",
        "loaded_model.load_state_dict(torch.load(model_load_path))\n",
        "loaded_model.to(device)\n",
        "loaded_model.eval()\n",
        "print(f'Model loaded from {model_load_path}')"
      ],
      "metadata": {
        "id": "7398rDpKrZfP"
      },
      "execution_count": null,
      "outputs": []
    },
    {
      "cell_type": "code",
      "source": [
        "\n",
        "test_loss, test_acc = validate(loaded_model, test_loader, criterion, device)\n",
        "print(f'Test Loss: {test_loss:.4f}, Test Acc: {test_acc:.4f}')"
      ],
      "metadata": {
        "colab": {
          "base_uri": "https://localhost:8080/"
        },
        "id": "sfJkSStqrl92",
        "outputId": "1956d0e0-1910-4ed5-c95e-31798db54a0c"
      },
      "execution_count": null,
      "outputs": [
        {
          "output_type": "stream",
          "name": "stdout",
          "text": [
            "Test Loss: 0.0210, Test Acc: 0.9968\n"
          ]
        }
      ]
    }
  ]
}